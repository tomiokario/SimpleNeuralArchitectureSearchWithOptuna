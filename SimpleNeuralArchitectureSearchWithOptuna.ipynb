{
  "nbformat": 4,
  "nbformat_minor": 0,
  "metadata": {
    "colab": {
      "provenance": [],
      "collapsed_sections": [
        "PEQCMXUinHfu"
      ],
      "gpuType": "T4",
      "authorship_tag": "ABX9TyNwq1r6qN9MZ6rHRC+zx/k8",
      "include_colab_link": true
    },
    "kernelspec": {
      "name": "python3",
      "display_name": "Python 3"
    },
    "language_info": {
      "name": "python"
    },
    "accelerator": "GPU"
  },
  "cells": [
    {
      "cell_type": "markdown",
      "metadata": {
        "id": "view-in-github",
        "colab_type": "text"
      },
      "source": [
        "<a href=\"https://colab.research.google.com/github/tomiokario/SimpleNeuralArchitectureSearchWithOptuna/blob/main/SimpleNeuralArchitectureSearchWithOptuna.ipynb\" target=\"_parent\"><img src=\"https://colab.research.google.com/assets/colab-badge.svg\" alt=\"Open In Colab\"/></a>"
      ]
    },
    {
      "cell_type": "markdown",
      "source": [
        "# Simple Neural Architecture Search with Optuna\n",
        "簡易な設定でOptunaによるNAS（Neural Architecture Search）を行う勉強用のプログラム\n",
        "- Fasion MNIST画像識別課題に対して全結合型ニューラルネットワークの最適な構造を探索する\n",
        "- TPE(Tree-structured Parzen Estimator)アルゴリズムにより，検証時の損失を最小化する(1)層数，(2)各層のパラメータ数，(3)学習率，(4)バッチサイズを探索する．\n",
        "\n",
        "※このコードでは，乱数設定より良い結果が得られるとは限らない\n"
      ],
      "metadata": {
        "id": "ZcS3S2E9mnx0"
      }
    },
    {
      "cell_type": "markdown",
      "source": [
        "## パッケージの導入"
      ],
      "metadata": {
        "id": "PEQCMXUinHfu"
      }
    },
    {
      "cell_type": "code",
      "source": [
        "! pip install optuna\n",
        "!pip install optuna-integration[tfkeras]"
      ],
      "metadata": {
        "colab": {
          "base_uri": "https://localhost:8080/"
        },
        "id": "vlvNqDplmt70",
        "outputId": "4ba1da1d-1dbd-4c4b-d50f-4e274e89b360"
      },
      "execution_count": 1,
      "outputs": [
        {
          "output_type": "stream",
          "name": "stdout",
          "text": [
            "Requirement already satisfied: optuna in /usr/local/lib/python3.11/dist-packages (4.2.0)\n",
            "Requirement already satisfied: alembic>=1.5.0 in /usr/local/lib/python3.11/dist-packages (from optuna) (1.14.1)\n",
            "Requirement already satisfied: colorlog in /usr/local/lib/python3.11/dist-packages (from optuna) (6.9.0)\n",
            "Requirement already satisfied: numpy in /usr/local/lib/python3.11/dist-packages (from optuna) (1.26.4)\n",
            "Requirement already satisfied: packaging>=20.0 in /usr/local/lib/python3.11/dist-packages (from optuna) (24.2)\n",
            "Requirement already satisfied: sqlalchemy>=1.4.2 in /usr/local/lib/python3.11/dist-packages (from optuna) (2.0.37)\n",
            "Requirement already satisfied: tqdm in /usr/local/lib/python3.11/dist-packages (from optuna) (4.67.1)\n",
            "Requirement already satisfied: PyYAML in /usr/local/lib/python3.11/dist-packages (from optuna) (6.0.2)\n",
            "Requirement already satisfied: Mako in /usr/local/lib/python3.11/dist-packages (from alembic>=1.5.0->optuna) (1.3.8)\n",
            "Requirement already satisfied: typing-extensions>=4 in /usr/local/lib/python3.11/dist-packages (from alembic>=1.5.0->optuna) (4.12.2)\n",
            "Requirement already satisfied: greenlet!=0.4.17 in /usr/local/lib/python3.11/dist-packages (from sqlalchemy>=1.4.2->optuna) (3.1.1)\n",
            "Requirement already satisfied: MarkupSafe>=0.9.2 in /usr/local/lib/python3.11/dist-packages (from Mako->alembic>=1.5.0->optuna) (3.0.2)\n",
            "Requirement already satisfied: optuna-integration[tfkeras] in /usr/local/lib/python3.11/dist-packages (4.2.1)\n",
            "Requirement already satisfied: optuna in /usr/local/lib/python3.11/dist-packages (from optuna-integration[tfkeras]) (4.2.0)\n",
            "Requirement already satisfied: tensorflow in /usr/local/lib/python3.11/dist-packages (from optuna-integration[tfkeras]) (2.18.0)\n",
            "Requirement already satisfied: alembic>=1.5.0 in /usr/local/lib/python3.11/dist-packages (from optuna->optuna-integration[tfkeras]) (1.14.1)\n",
            "Requirement already satisfied: colorlog in /usr/local/lib/python3.11/dist-packages (from optuna->optuna-integration[tfkeras]) (6.9.0)\n",
            "Requirement already satisfied: numpy in /usr/local/lib/python3.11/dist-packages (from optuna->optuna-integration[tfkeras]) (1.26.4)\n",
            "Requirement already satisfied: packaging>=20.0 in /usr/local/lib/python3.11/dist-packages (from optuna->optuna-integration[tfkeras]) (24.2)\n",
            "Requirement already satisfied: sqlalchemy>=1.4.2 in /usr/local/lib/python3.11/dist-packages (from optuna->optuna-integration[tfkeras]) (2.0.37)\n",
            "Requirement already satisfied: tqdm in /usr/local/lib/python3.11/dist-packages (from optuna->optuna-integration[tfkeras]) (4.67.1)\n",
            "Requirement already satisfied: PyYAML in /usr/local/lib/python3.11/dist-packages (from optuna->optuna-integration[tfkeras]) (6.0.2)\n",
            "Requirement already satisfied: absl-py>=1.0.0 in /usr/local/lib/python3.11/dist-packages (from tensorflow->optuna-integration[tfkeras]) (1.4.0)\n",
            "Requirement already satisfied: astunparse>=1.6.0 in /usr/local/lib/python3.11/dist-packages (from tensorflow->optuna-integration[tfkeras]) (1.6.3)\n",
            "Requirement already satisfied: flatbuffers>=24.3.25 in /usr/local/lib/python3.11/dist-packages (from tensorflow->optuna-integration[tfkeras]) (25.1.24)\n",
            "Requirement already satisfied: gast!=0.5.0,!=0.5.1,!=0.5.2,>=0.2.1 in /usr/local/lib/python3.11/dist-packages (from tensorflow->optuna-integration[tfkeras]) (0.6.0)\n",
            "Requirement already satisfied: google-pasta>=0.1.1 in /usr/local/lib/python3.11/dist-packages (from tensorflow->optuna-integration[tfkeras]) (0.2.0)\n",
            "Requirement already satisfied: libclang>=13.0.0 in /usr/local/lib/python3.11/dist-packages (from tensorflow->optuna-integration[tfkeras]) (18.1.1)\n",
            "Requirement already satisfied: opt-einsum>=2.3.2 in /usr/local/lib/python3.11/dist-packages (from tensorflow->optuna-integration[tfkeras]) (3.4.0)\n",
            "Requirement already satisfied: protobuf!=4.21.0,!=4.21.1,!=4.21.2,!=4.21.3,!=4.21.4,!=4.21.5,<6.0.0dev,>=3.20.3 in /usr/local/lib/python3.11/dist-packages (from tensorflow->optuna-integration[tfkeras]) (4.25.6)\n",
            "Requirement already satisfied: requests<3,>=2.21.0 in /usr/local/lib/python3.11/dist-packages (from tensorflow->optuna-integration[tfkeras]) (2.32.3)\n",
            "Requirement already satisfied: setuptools in /usr/local/lib/python3.11/dist-packages (from tensorflow->optuna-integration[tfkeras]) (75.1.0)\n",
            "Requirement already satisfied: six>=1.12.0 in /usr/local/lib/python3.11/dist-packages (from tensorflow->optuna-integration[tfkeras]) (1.17.0)\n",
            "Requirement already satisfied: termcolor>=1.1.0 in /usr/local/lib/python3.11/dist-packages (from tensorflow->optuna-integration[tfkeras]) (2.5.0)\n",
            "Requirement already satisfied: typing-extensions>=3.6.6 in /usr/local/lib/python3.11/dist-packages (from tensorflow->optuna-integration[tfkeras]) (4.12.2)\n",
            "Requirement already satisfied: wrapt>=1.11.0 in /usr/local/lib/python3.11/dist-packages (from tensorflow->optuna-integration[tfkeras]) (1.17.2)\n",
            "Requirement already satisfied: grpcio<2.0,>=1.24.3 in /usr/local/lib/python3.11/dist-packages (from tensorflow->optuna-integration[tfkeras]) (1.70.0)\n",
            "Requirement already satisfied: tensorboard<2.19,>=2.18 in /usr/local/lib/python3.11/dist-packages (from tensorflow->optuna-integration[tfkeras]) (2.18.0)\n",
            "Requirement already satisfied: keras>=3.5.0 in /usr/local/lib/python3.11/dist-packages (from tensorflow->optuna-integration[tfkeras]) (3.8.0)\n",
            "Requirement already satisfied: h5py>=3.11.0 in /usr/local/lib/python3.11/dist-packages (from tensorflow->optuna-integration[tfkeras]) (3.12.1)\n",
            "Requirement already satisfied: ml-dtypes<0.5.0,>=0.4.0 in /usr/local/lib/python3.11/dist-packages (from tensorflow->optuna-integration[tfkeras]) (0.4.1)\n",
            "Requirement already satisfied: tensorflow-io-gcs-filesystem>=0.23.1 in /usr/local/lib/python3.11/dist-packages (from tensorflow->optuna-integration[tfkeras]) (0.37.1)\n",
            "Requirement already satisfied: Mako in /usr/local/lib/python3.11/dist-packages (from alembic>=1.5.0->optuna->optuna-integration[tfkeras]) (1.3.8)\n",
            "Requirement already satisfied: wheel<1.0,>=0.23.0 in /usr/local/lib/python3.11/dist-packages (from astunparse>=1.6.0->tensorflow->optuna-integration[tfkeras]) (0.45.1)\n",
            "Requirement already satisfied: rich in /usr/local/lib/python3.11/dist-packages (from keras>=3.5.0->tensorflow->optuna-integration[tfkeras]) (13.9.4)\n",
            "Requirement already satisfied: namex in /usr/local/lib/python3.11/dist-packages (from keras>=3.5.0->tensorflow->optuna-integration[tfkeras]) (0.0.8)\n",
            "Requirement already satisfied: optree in /usr/local/lib/python3.11/dist-packages (from keras>=3.5.0->tensorflow->optuna-integration[tfkeras]) (0.14.0)\n",
            "Requirement already satisfied: charset-normalizer<4,>=2 in /usr/local/lib/python3.11/dist-packages (from requests<3,>=2.21.0->tensorflow->optuna-integration[tfkeras]) (3.4.1)\n",
            "Requirement already satisfied: idna<4,>=2.5 in /usr/local/lib/python3.11/dist-packages (from requests<3,>=2.21.0->tensorflow->optuna-integration[tfkeras]) (3.10)\n",
            "Requirement already satisfied: urllib3<3,>=1.21.1 in /usr/local/lib/python3.11/dist-packages (from requests<3,>=2.21.0->tensorflow->optuna-integration[tfkeras]) (2.3.0)\n",
            "Requirement already satisfied: certifi>=2017.4.17 in /usr/local/lib/python3.11/dist-packages (from requests<3,>=2.21.0->tensorflow->optuna-integration[tfkeras]) (2024.12.14)\n",
            "Requirement already satisfied: greenlet!=0.4.17 in /usr/local/lib/python3.11/dist-packages (from sqlalchemy>=1.4.2->optuna->optuna-integration[tfkeras]) (3.1.1)\n",
            "Requirement already satisfied: markdown>=2.6.8 in /usr/local/lib/python3.11/dist-packages (from tensorboard<2.19,>=2.18->tensorflow->optuna-integration[tfkeras]) (3.7)\n",
            "Requirement already satisfied: tensorboard-data-server<0.8.0,>=0.7.0 in /usr/local/lib/python3.11/dist-packages (from tensorboard<2.19,>=2.18->tensorflow->optuna-integration[tfkeras]) (0.7.2)\n",
            "Requirement already satisfied: werkzeug>=1.0.1 in /usr/local/lib/python3.11/dist-packages (from tensorboard<2.19,>=2.18->tensorflow->optuna-integration[tfkeras]) (3.1.3)\n",
            "Requirement already satisfied: MarkupSafe>=2.1.1 in /usr/local/lib/python3.11/dist-packages (from werkzeug>=1.0.1->tensorboard<2.19,>=2.18->tensorflow->optuna-integration[tfkeras]) (3.0.2)\n",
            "Requirement already satisfied: markdown-it-py>=2.2.0 in /usr/local/lib/python3.11/dist-packages (from rich->keras>=3.5.0->tensorflow->optuna-integration[tfkeras]) (3.0.0)\n",
            "Requirement already satisfied: pygments<3.0.0,>=2.13.0 in /usr/local/lib/python3.11/dist-packages (from rich->keras>=3.5.0->tensorflow->optuna-integration[tfkeras]) (2.18.0)\n",
            "Requirement already satisfied: mdurl~=0.1 in /usr/local/lib/python3.11/dist-packages (from markdown-it-py>=2.2.0->rich->keras>=3.5.0->tensorflow->optuna-integration[tfkeras]) (0.1.2)\n"
          ]
        }
      ]
    },
    {
      "cell_type": "code",
      "source": [
        "import tensorflow as tf\n",
        "from tensorflow.keras.datasets import fashion_mnist\n",
        "from tensorflow.keras.models import Sequential\n",
        "from tensorflow.keras.layers import Dense, Flatten\n",
        "from tensorflow.keras.optimizers import Adam\n",
        "from tensorflow.keras.callbacks import EarlyStopping\n",
        "from optuna.integration import TFKerasPruningCallback\n",
        "\n",
        "import optuna\n",
        "import optuna.visualization as vis\n",
        "\n",
        "import numpy as np\n",
        "import matplotlib.pyplot as plt\n",
        "import seaborn as sns\n",
        "from sklearn.metrics import confusion_matrix\n",
        "import random, math"
      ],
      "metadata": {
        "id": "zs_64x1mucw2"
      },
      "execution_count": 2,
      "outputs": []
    },
    {
      "cell_type": "markdown",
      "source": [
        "## NASの実行"
      ],
      "metadata": {
        "id": "DfoBo4rgnLL6"
      }
    },
    {
      "cell_type": "code",
      "execution_count": 3,
      "metadata": {
        "colab": {
          "base_uri": "https://localhost:8080/"
        },
        "id": "1PiMObJRmY_U",
        "outputId": "6bcedbfd-107e-4a4d-eb60-fe1fdb4af7bd"
      },
      "outputs": [
        {
          "output_type": "stream",
          "name": "stderr",
          "text": [
            "[I 2025-02-02 08:16:28,166] A new study created in memory with name: no-name-2e1e5447-b4c6-48d8-bcb2-268656526a23\n",
            "/usr/local/lib/python3.11/dist-packages/keras/src/layers/reshaping/flatten.py:37: UserWarning: Do not pass an `input_shape`/`input_dim` argument to a layer. When using Sequential models, prefer using an `Input(shape)` object as the first layer in the model instead.\n",
            "  super().__init__(**kwargs)\n",
            "[I 2025-02-02 08:18:21,853] Trial 0 finished with value: 0.3907945156097412 and parameters: {'n_layers': 3, 'n_units_l0': 32, 'n_units_l1': 416, 'n_units_l2': 320, 'lr': 2.3020877119586296e-05}. Best is trial 0 with value: 0.3907945156097412.\n"
          ]
        },
        {
          "output_type": "stream",
          "name": "stdout",
          "text": [
            "Epoch 9: early stopping\n"
          ]
        },
        {
          "output_type": "stream",
          "name": "stderr",
          "text": [
            "[I 2025-02-02 08:19:39,392] Trial 1 finished with value: 0.5207171440124512 and parameters: {'n_layers': 5, 'n_units_l0': 32, 'n_units_l1': 480, 'n_units_l2': 512, 'n_units_l3': 32, 'n_units_l4': 160, 'lr': 0.005923640626526916}. Best is trial 0 with value: 0.3907945156097412.\n",
            "[I 2025-02-02 08:21:43,664] Trial 2 finished with value: 0.31030064821243286 and parameters: {'n_layers': 4, 'n_units_l0': 288, 'n_units_l1': 384, 'n_units_l2': 352, 'n_units_l3': 128, 'lr': 3.0235695398137017e-05}. Best is trial 2 with value: 0.31030064821243286.\n"
          ]
        },
        {
          "output_type": "stream",
          "name": "stdout",
          "text": [
            "Epoch 14: early stopping\n"
          ]
        },
        {
          "output_type": "stream",
          "name": "stderr",
          "text": [
            "[I 2025-02-02 08:23:24,261] Trial 3 finished with value: 0.3369460999965668 and parameters: {'n_layers': 4, 'n_units_l0': 32, 'n_units_l1': 160, 'n_units_l2': 384, 'n_units_l3': 224, 'lr': 0.00035509980407105236}. Best is trial 2 with value: 0.31030064821243286.\n"
          ]
        },
        {
          "output_type": "stream",
          "name": "stdout",
          "text": [
            "Epoch 15: early stopping\n"
          ]
        },
        {
          "output_type": "stream",
          "name": "stderr",
          "text": [
            "[I 2025-02-02 08:24:49,650] Trial 4 finished with value: 0.32117071747779846 and parameters: {'n_layers': 3, 'n_units_l0': 128, 'n_units_l1': 160, 'n_units_l2': 160, 'lr': 0.00016927124679424574}. Best is trial 2 with value: 0.31030064821243286.\n"
          ]
        },
        {
          "output_type": "stream",
          "name": "stdout",
          "text": [
            "Epoch 8: early stopping\n"
          ]
        },
        {
          "output_type": "stream",
          "name": "stderr",
          "text": [
            "[I 2025-02-02 08:25:37,810] Trial 5 finished with value: 0.4298955202102661 and parameters: {'n_layers': 4, 'n_units_l0': 352, 'n_units_l1': 224, 'n_units_l2': 96, 'n_units_l3': 448, 'lr': 0.0044834186373040414}. Best is trial 2 with value: 0.31030064821243286.\n"
          ]
        },
        {
          "output_type": "stream",
          "name": "stdout",
          "text": [
            "Epoch 20: early stopping\n"
          ]
        },
        {
          "output_type": "stream",
          "name": "stderr",
          "text": [
            "[I 2025-02-02 08:27:21,441] Trial 6 finished with value: 0.3123840391635895 and parameters: {'n_layers': 4, 'n_units_l0': 512, 'n_units_l1': 480, 'n_units_l2': 448, 'n_units_l3': 192, 'lr': 2.8532164919527782e-05}. Best is trial 2 with value: 0.31030064821243286.\n"
          ]
        },
        {
          "output_type": "stream",
          "name": "stdout",
          "text": [
            "Epoch 12: early stopping\n"
          ]
        },
        {
          "output_type": "stream",
          "name": "stderr",
          "text": [
            "[I 2025-02-02 08:28:36,225] Trial 7 finished with value: 0.327717125415802 and parameters: {'n_layers': 5, 'n_units_l0': 480, 'n_units_l1': 512, 'n_units_l2': 448, 'n_units_l3': 480, 'n_units_l4': 416, 'lr': 0.00011182015131393244}. Best is trial 2 with value: 0.31030064821243286.\n",
            "[I 2025-02-02 08:30:20,586] Trial 8 finished with value: 0.33730989694595337 and parameters: {'n_layers': 2, 'n_units_l0': 512, 'n_units_l1': 64, 'lr': 2.5782126483716616e-05}. Best is trial 2 with value: 0.31030064821243286.\n"
          ]
        },
        {
          "output_type": "stream",
          "name": "stdout",
          "text": [
            "Epoch 18: early stopping\n"
          ]
        },
        {
          "output_type": "stream",
          "name": "stderr",
          "text": [
            "[I 2025-02-02 08:31:50,727] Trial 9 finished with value: 0.33236682415008545 and parameters: {'n_layers': 3, 'n_units_l0': 352, 'n_units_l1': 192, 'n_units_l2': 480, 'lr': 3.91195526346507e-05}. Best is trial 2 with value: 0.31030064821243286.\n"
          ]
        },
        {
          "output_type": "stream",
          "name": "stdout",
          "text": [
            "Epoch 15: early stopping\n"
          ]
        },
        {
          "output_type": "stream",
          "name": "stderr",
          "text": [
            "[I 2025-02-02 08:33:04,481] Trial 10 finished with value: 0.3236640393733978 and parameters: {'n_layers': 1, 'n_units_l0': 224, 'lr': 0.0006886030643749537}. Best is trial 2 with value: 0.31030064821243286.\n",
            "[I 2025-02-02 08:34:58,349] Trial 11 finished with value: 0.3425725996494293 and parameters: {'n_layers': 4, 'n_units_l0': 384, 'n_units_l1': 352, 'n_units_l2': 256, 'n_units_l3': 128, 'lr': 1.3517226062343755e-05}. Best is trial 2 with value: 0.31030064821243286.\n"
          ]
        },
        {
          "output_type": "stream",
          "name": "stdout",
          "text": [
            "Epoch 12: early stopping\n"
          ]
        },
        {
          "output_type": "stream",
          "name": "stderr",
          "text": [
            "[I 2025-02-02 08:36:02,563] Trial 12 finished with value: 0.33168545365333557 and parameters: {'n_layers': 4, 'n_units_l0': 224, 'n_units_l1': 352, 'n_units_l2': 320, 'n_units_l3': 256, 'lr': 6.797653553791645e-05}. Best is trial 2 with value: 0.31030064821243286.\n",
            "[I 2025-02-02 08:38:20,480] Trial 13 finished with value: 0.3480205833911896 and parameters: {'n_layers': 5, 'n_units_l0': 448, 'n_units_l1': 416, 'n_units_l2': 384, 'n_units_l3': 160, 'n_units_l4': 32, 'lr': 1.0304407580631573e-05}. Best is trial 2 with value: 0.31030064821243286.\n"
          ]
        },
        {
          "output_type": "stream",
          "name": "stdout",
          "text": [
            "Epoch 12: early stopping\n"
          ]
        },
        {
          "output_type": "stream",
          "name": "stderr",
          "text": [
            "[I 2025-02-02 08:39:26,850] Trial 14 finished with value: 0.3216492235660553 and parameters: {'n_layers': 3, 'n_units_l0': 288, 'n_units_l1': 320, 'n_units_l2': 224, 'lr': 0.0007796216305637198}. Best is trial 2 with value: 0.31030064821243286.\n"
          ]
        },
        {
          "output_type": "stream",
          "name": "stdout",
          "text": [
            "Epoch 19: early stopping\n"
          ]
        },
        {
          "output_type": "stream",
          "name": "stderr",
          "text": [
            "[I 2025-02-02 08:40:57,594] Trial 15 finished with value: 0.3098045885562897 and parameters: {'n_layers': 2, 'n_units_l0': 416, 'n_units_l1': 448, 'lr': 5.395790834052842e-05}. Best is trial 15 with value: 0.3098045885562897.\n",
            "[I 2025-02-02 08:42:32,501] Trial 16 finished with value: 0.3168458640575409 and parameters: {'n_layers': 1, 'n_units_l0': 416, 'lr': 6.238702704291272e-05}. Best is trial 15 with value: 0.3098045885562897.\n"
          ]
        },
        {
          "output_type": "stream",
          "name": "stdout",
          "text": [
            "Epoch 13: early stopping\n"
          ]
        },
        {
          "output_type": "stream",
          "name": "stderr",
          "text": [
            "[I 2025-02-02 08:43:39,896] Trial 17 finished with value: 0.31405556201934814 and parameters: {'n_layers': 2, 'n_units_l0': 288, 'n_units_l1': 416, 'lr': 0.0001843246484464704}. Best is trial 15 with value: 0.3098045885562897.\n"
          ]
        },
        {
          "output_type": "stream",
          "name": "stdout",
          "text": [
            "Epoch 10: early stopping\n"
          ]
        },
        {
          "output_type": "stream",
          "name": "stderr",
          "text": [
            "[I 2025-02-02 08:44:30,686] Trial 18 finished with value: 0.3647156357765198 and parameters: {'n_layers': 2, 'n_units_l0': 160, 'n_units_l1': 288, 'lr': 0.001980686636308069}. Best is trial 15 with value: 0.3098045885562897.\n"
          ]
        },
        {
          "output_type": "stream",
          "name": "stdout",
          "text": [
            "Epoch 16: early stopping\n"
          ]
        },
        {
          "output_type": "stream",
          "name": "stderr",
          "text": [
            "[I 2025-02-02 08:45:52,575] Trial 19 finished with value: 0.31564009189605713 and parameters: {'n_layers': 2, 'n_units_l0': 320, 'n_units_l1': 384, 'lr': 6.877496425551017e-05}. Best is trial 15 with value: 0.3098045885562897.\n"
          ]
        },
        {
          "output_type": "stream",
          "name": "stdout",
          "text": [
            "Epoch 14: early stopping\n"
          ]
        },
        {
          "output_type": "stream",
          "name": "stderr",
          "text": [
            "[I 2025-02-02 08:47:03,137] Trial 20 finished with value: 0.30970653891563416 and parameters: {'n_layers': 1, 'n_units_l0': 224, 'lr': 0.0003691429734158385}. Best is trial 20 with value: 0.30970653891563416.\n"
          ]
        },
        {
          "output_type": "stream",
          "name": "stdout",
          "text": [
            "Epoch 16: early stopping\n"
          ]
        },
        {
          "output_type": "stream",
          "name": "stderr",
          "text": [
            "[I 2025-02-02 08:48:20,721] Trial 21 finished with value: 0.3076871633529663 and parameters: {'n_layers': 1, 'n_units_l0': 224, 'lr': 0.00042962968250750185}. Best is trial 21 with value: 0.3076871633529663.\n"
          ]
        },
        {
          "output_type": "stream",
          "name": "stdout",
          "text": [
            "Epoch 9: early stopping\n"
          ]
        },
        {
          "output_type": "stream",
          "name": "stderr",
          "text": [
            "[I 2025-02-02 08:49:10,228] Trial 22 finished with value: 0.3231489956378937 and parameters: {'n_layers': 1, 'n_units_l0': 192, 'lr': 0.0007532111252766141}. Best is trial 21 with value: 0.3076871633529663.\n",
            "[I 2025-02-02 08:51:08,445] Trial 23 finished with value: 0.316516637802124 and parameters: {'n_layers': 1, 'n_units_l0': 96, 'lr': 0.00035450424115326295}. Best is trial 21 with value: 0.3076871633529663.\n"
          ]
        },
        {
          "output_type": "stream",
          "name": "stdout",
          "text": [
            "Epoch 9: early stopping\n"
          ]
        },
        {
          "output_type": "stream",
          "name": "stderr",
          "text": [
            "[I 2025-02-02 08:52:00,620] Trial 24 finished with value: 0.3334973454475403 and parameters: {'n_layers': 1, 'n_units_l0': 224, 'lr': 0.0015056718034911502}. Best is trial 21 with value: 0.3076871633529663.\n"
          ]
        },
        {
          "output_type": "stream",
          "name": "stdout",
          "text": [
            "Epoch 14: early stopping\n"
          ]
        },
        {
          "output_type": "stream",
          "name": "stderr",
          "text": [
            "[I 2025-02-02 08:53:26,952] Trial 25 finished with value: 0.3098013997077942 and parameters: {'n_layers': 2, 'n_units_l0': 256, 'n_units_l1': 32, 'lr': 0.000245511435678736}. Best is trial 21 with value: 0.3076871633529663.\n"
          ]
        },
        {
          "output_type": "stream",
          "name": "stdout",
          "text": [
            "Epoch 17: early stopping\n"
          ]
        },
        {
          "output_type": "stream",
          "name": "stderr",
          "text": [
            "[I 2025-02-02 08:55:00,420] Trial 26 finished with value: 0.3156585097312927 and parameters: {'n_layers': 1, 'n_units_l0': 256, 'lr': 0.00021756260869379288}. Best is trial 21 with value: 0.3076871633529663.\n"
          ]
        },
        {
          "output_type": "stream",
          "name": "stdout",
          "text": [
            "Epoch 12: early stopping\n"
          ]
        },
        {
          "output_type": "stream",
          "name": "stderr",
          "text": [
            "[I 2025-02-02 08:56:03,792] Trial 27 finished with value: 0.3121950626373291 and parameters: {'n_layers': 2, 'n_units_l0': 160, 'n_units_l1': 32, 'lr': 0.0005042816064887972}. Best is trial 21 with value: 0.3076871633529663.\n"
          ]
        },
        {
          "output_type": "stream",
          "name": "stdout",
          "text": [
            "Epoch 11: early stopping\n"
          ]
        },
        {
          "output_type": "stream",
          "name": "stderr",
          "text": [
            "[I 2025-02-02 08:56:58,731] Trial 28 finished with value: 0.3427940309047699 and parameters: {'n_layers': 1, 'n_units_l0': 96, 'lr': 0.0025320993808766686}. Best is trial 21 with value: 0.3076871633529663.\n"
          ]
        },
        {
          "output_type": "stream",
          "name": "stdout",
          "text": [
            "Epoch 10: early stopping\n"
          ]
        },
        {
          "output_type": "stream",
          "name": "stderr",
          "text": [
            "[I 2025-02-02 08:57:54,089] Trial 29 finished with value: 0.34878334403038025 and parameters: {'n_layers': 2, 'n_units_l0': 256, 'n_units_l1': 96, 'lr': 0.0013536549349547724}. Best is trial 21 with value: 0.3076871633529663.\n"
          ]
        },
        {
          "output_type": "stream",
          "name": "stdout",
          "text": [
            "=== 最適なハイパーパラメータ ===\n",
            "n_layers: 1\n",
            "n_units_l0: 224\n",
            "lr: 0.00042962968250750185\n",
            "最適な検証損失: 0.3077\n"
          ]
        }
      ],
      "source": [
        "# --- データセットの読み込みと前処理 ---\n",
        "def load_data():\n",
        "    (x_train, y_train), (x_test, y_test) = fashion_mnist.load_data()\n",
        "    x_train = x_train.astype(\"float32\") / 255.0\n",
        "    x_test  = x_test.astype(\"float32\")  / 255.0\n",
        "    # 一部を検証用に分割（例：最後の1万件）\n",
        "    x_train, x_val = x_train[:-10000], x_train[-10000:]\n",
        "    y_train, y_val = y_train[:-10000], y_train[-10000:]\n",
        "    return x_train, y_train, x_val, y_val, x_test, y_test\n",
        "\n",
        "x_train, y_train, x_val, y_val, x_test, y_test = load_data()\n",
        "\n",
        "# --- ハイパーパラメータの探索空間を定義する関数 ---\n",
        "def define_search_space(trial):\n",
        "    \"\"\"\n",
        "    この関数は、Optuna の trial を利用して\n",
        "    最適化するハイパーパラメータを明示的に辞書形式で定義します。\n",
        "    \"\"\"\n",
        "    params = {}\n",
        "\n",
        "    # モデル構造に関するパラメータ\n",
        "    params[\"n_layers\"] = trial.suggest_int(\"n_layers\", 1, 5)\n",
        "    params[\"layers\"] = []\n",
        "    for i in range(params[\"n_layers\"]):\n",
        "        # 各 Dense 層のユニット数（32～512, 32 刻み）\n",
        "        units = trial.suggest_int(f\"n_units_l{i}\", 32, 512, step=32)\n",
        "        params[\"layers\"].append(units)\n",
        "\n",
        "    # 学習率（対数スケールで探索）\n",
        "    params[\"lr\"] = trial.suggest_float(\"lr\", 1e-5, 1e-2, log=True)\n",
        "    # バッチサイズ（32～128の整数値）\n",
        "    # params[\"batch_size\"] = trial.suggest_int(\"batch_size\", 32, 128, step=32)\n",
        "\n",
        "    return params\n",
        "\n",
        "# --- モデル作成関数 ---\n",
        "def create_model(params):\n",
        "    \"\"\"\n",
        "    define_search_space() で得たパラメータを使ってモデルを作成します。\n",
        "    \"\"\"\n",
        "    model = Sequential()\n",
        "    model.add(Flatten(input_shape=(28, 28)))\n",
        "\n",
        "    for units in params[\"layers\"]:\n",
        "        model.add(Dense(units, activation=\"relu\"))\n",
        "\n",
        "    model.add(Dense(10, activation=\"softmax\"))\n",
        "\n",
        "    optimizer = Adam(learning_rate=params[\"lr\"])\n",
        "    model.compile(optimizer=optimizer,\n",
        "                  loss=\"sparse_categorical_crossentropy\",\n",
        "                  metrics=[\"accuracy\"])\n",
        "    return model\n",
        "\n",
        "# --- 目的関数 ---\n",
        "def objective(trial):\n",
        "    # ハイパーパラメータの探索空間を明示的に定義し、辞書として取得\n",
        "    params = define_search_space(trial)\n",
        "\n",
        "    # パラメータに基づいてモデルを作成\n",
        "    model = create_model(params)\n",
        "\n",
        "    # コールバックの設定\n",
        "    early_stopping = EarlyStopping(monitor=\"val_loss\", patience=3, verbose=1)\n",
        "    # pruning_callback = TFKerasPruningCallback(trial, \"val_loss\")\n",
        "\n",
        "    epochs = 20  # 必要に応じて調整\n",
        "\n",
        "    # モデルの学習\n",
        "    model.fit(\n",
        "        x_train, y_train,\n",
        "        validation_data=(x_val, y_val),\n",
        "        epochs=epochs,\n",
        "        batch_size=32,\n",
        "        # batch_size=params[\"batch_size\"],\n",
        "        # callbacks=[early_stopping, pruning_callback],\n",
        "        callbacks=[early_stopping],\n",
        "        verbose=0\n",
        "    )\n",
        "\n",
        "    # 検証データで評価\n",
        "    score = model.evaluate(x_val, y_val, verbose=0)\n",
        "    # 検証損失を目的関数として返す\n",
        "    return score[0]\n",
        "\n",
        "# --- メイン処理 ---\n",
        "if __name__ == \"__main__\":\n",
        "    # 最小化問題として Study を作成\n",
        "    study = optuna.create_study(direction=\"minimize\")\n",
        "    # 例として 30 試行で最適化\n",
        "    study.optimize(objective, n_trials=30)\n",
        "\n",
        "    print(\"=== 最適なハイパーパラメータ ===\")\n",
        "    for key, value in study.best_trial.params.items():\n",
        "        print(f\"{key}: {value}\")\n",
        "    print(f\"最適な検証損失: {study.best_trial.value:.4f}\")\n"
      ]
    },
    {
      "cell_type": "markdown",
      "source": [
        "## プロット\n",
        "- ハイパーパラメータ最適化の過程（各トライアルでの検証損失）を示すグラフを作成する。\n",
        "- また、各パラメータの重要性を比較するグラフを作成する。"
      ],
      "metadata": {
        "id": "u00ED_mJqrb5"
      }
    },
    {
      "cell_type": "code",
      "source": [
        "# --- 最適化履歴のプロット ---\n",
        "history_fig = vis.plot_optimization_history(study)\n",
        "history_fig.update_layout(\n",
        "    title=\"Optimization History\",\n",
        "    xaxis_title=\"Trial\",\n",
        "    yaxis_title=\"Objective Value\"\n",
        ")\n",
        "history_fig.show()\n",
        "\n",
        "# --- パラメータ重要度のプロット ---\n",
        "param_importance_fig = vis.plot_param_importances(study)\n",
        "param_importance_fig.update_layout(\n",
        "    title=\"Parameter Importances\"\n",
        ")\n",
        "param_importance_fig.show()\n"
      ],
      "metadata": {
        "colab": {
          "base_uri": "https://localhost:8080/",
          "height": 1000
        },
        "id": "Sxa3IRJMrWfU",
        "outputId": "2dbcb3c9-fb38-4781-97cf-a9bb1f8325e7"
      },
      "execution_count": 4,
      "outputs": [
        {
          "output_type": "display_data",
          "data": {
            "text/html": [
              "<html>\n",
              "<head><meta charset=\"utf-8\" /></head>\n",
              "<body>\n",
              "    <div>            <script src=\"https://cdnjs.cloudflare.com/ajax/libs/mathjax/2.7.5/MathJax.js?config=TeX-AMS-MML_SVG\"></script><script type=\"text/javascript\">if (window.MathJax && window.MathJax.Hub && window.MathJax.Hub.Config) {window.MathJax.Hub.Config({SVG: {font: \"STIX-Web\"}});}</script>                <script type=\"text/javascript\">window.PlotlyConfig = {MathJaxConfig: 'local'};</script>\n",
              "        <script charset=\"utf-8\" src=\"https://cdn.plot.ly/plotly-2.35.2.min.js\"></script>                <div id=\"9dc1eb15-7757-40a3-8e23-13a8fe6f639e\" class=\"plotly-graph-div\" style=\"height:525px; width:100%;\"></div>            <script type=\"text/javascript\">                                    window.PLOTLYENV=window.PLOTLYENV || {};                                    if (document.getElementById(\"9dc1eb15-7757-40a3-8e23-13a8fe6f639e\")) {                    Plotly.newPlot(                        \"9dc1eb15-7757-40a3-8e23-13a8fe6f639e\",                        [{\"mode\":\"markers\",\"name\":\"Objective Value\",\"x\":[0,1,2,3,4,5,6,7,8,9,10,11,12,13,14,15,16,17,18,19,20,21,22,23,24,25,26,27,28,29],\"y\":[0.3907945156097412,0.5207171440124512,0.31030064821243286,0.3369460999965668,0.32117071747779846,0.4298955202102661,0.3123840391635895,0.327717125415802,0.33730989694595337,0.33236682415008545,0.3236640393733978,0.3425725996494293,0.33168545365333557,0.3480205833911896,0.3216492235660553,0.3098045885562897,0.3168458640575409,0.31405556201934814,0.3647156357765198,0.31564009189605713,0.30970653891563416,0.3076871633529663,0.3231489956378937,0.316516637802124,0.3334973454475403,0.3098013997077942,0.3156585097312927,0.3121950626373291,0.3427940309047699,0.34878334403038025],\"type\":\"scatter\"},{\"mode\":\"lines\",\"name\":\"Best Value\",\"x\":[0,1,2,3,4,5,6,7,8,9,10,11,12,13,14,15,16,17,18,19,20,21,22,23,24,25,26,27,28,29],\"y\":[0.3907945156097412,0.3907945156097412,0.31030064821243286,0.31030064821243286,0.31030064821243286,0.31030064821243286,0.31030064821243286,0.31030064821243286,0.31030064821243286,0.31030064821243286,0.31030064821243286,0.31030064821243286,0.31030064821243286,0.31030064821243286,0.31030064821243286,0.3098045885562897,0.3098045885562897,0.3098045885562897,0.3098045885562897,0.3098045885562897,0.30970653891563416,0.3076871633529663,0.3076871633529663,0.3076871633529663,0.3076871633529663,0.3076871633529663,0.3076871633529663,0.3076871633529663,0.3076871633529663,0.3076871633529663],\"type\":\"scatter\"},{\"marker\":{\"color\":\"#cccccc\"},\"mode\":\"markers\",\"name\":\"Infeasible Trial\",\"showlegend\":false,\"x\":[],\"y\":[],\"type\":\"scatter\"}],                        {\"title\":{\"text\":\"Optimization History\"},\"xaxis\":{\"title\":{\"text\":\"Trial\"}},\"yaxis\":{\"title\":{\"text\":\"Objective Value\"}},\"template\":{\"data\":{\"histogram2dcontour\":[{\"type\":\"histogram2dcontour\",\"colorbar\":{\"outlinewidth\":0,\"ticks\":\"\"},\"colorscale\":[[0.0,\"#0d0887\"],[0.1111111111111111,\"#46039f\"],[0.2222222222222222,\"#7201a8\"],[0.3333333333333333,\"#9c179e\"],[0.4444444444444444,\"#bd3786\"],[0.5555555555555556,\"#d8576b\"],[0.6666666666666666,\"#ed7953\"],[0.7777777777777778,\"#fb9f3a\"],[0.8888888888888888,\"#fdca26\"],[1.0,\"#f0f921\"]]}],\"choropleth\":[{\"type\":\"choropleth\",\"colorbar\":{\"outlinewidth\":0,\"ticks\":\"\"}}],\"histogram2d\":[{\"type\":\"histogram2d\",\"colorbar\":{\"outlinewidth\":0,\"ticks\":\"\"},\"colorscale\":[[0.0,\"#0d0887\"],[0.1111111111111111,\"#46039f\"],[0.2222222222222222,\"#7201a8\"],[0.3333333333333333,\"#9c179e\"],[0.4444444444444444,\"#bd3786\"],[0.5555555555555556,\"#d8576b\"],[0.6666666666666666,\"#ed7953\"],[0.7777777777777778,\"#fb9f3a\"],[0.8888888888888888,\"#fdca26\"],[1.0,\"#f0f921\"]]}],\"heatmap\":[{\"type\":\"heatmap\",\"colorbar\":{\"outlinewidth\":0,\"ticks\":\"\"},\"colorscale\":[[0.0,\"#0d0887\"],[0.1111111111111111,\"#46039f\"],[0.2222222222222222,\"#7201a8\"],[0.3333333333333333,\"#9c179e\"],[0.4444444444444444,\"#bd3786\"],[0.5555555555555556,\"#d8576b\"],[0.6666666666666666,\"#ed7953\"],[0.7777777777777778,\"#fb9f3a\"],[0.8888888888888888,\"#fdca26\"],[1.0,\"#f0f921\"]]}],\"heatmapgl\":[{\"type\":\"heatmapgl\",\"colorbar\":{\"outlinewidth\":0,\"ticks\":\"\"},\"colorscale\":[[0.0,\"#0d0887\"],[0.1111111111111111,\"#46039f\"],[0.2222222222222222,\"#7201a8\"],[0.3333333333333333,\"#9c179e\"],[0.4444444444444444,\"#bd3786\"],[0.5555555555555556,\"#d8576b\"],[0.6666666666666666,\"#ed7953\"],[0.7777777777777778,\"#fb9f3a\"],[0.8888888888888888,\"#fdca26\"],[1.0,\"#f0f921\"]]}],\"contourcarpet\":[{\"type\":\"contourcarpet\",\"colorbar\":{\"outlinewidth\":0,\"ticks\":\"\"}}],\"contour\":[{\"type\":\"contour\",\"colorbar\":{\"outlinewidth\":0,\"ticks\":\"\"},\"colorscale\":[[0.0,\"#0d0887\"],[0.1111111111111111,\"#46039f\"],[0.2222222222222222,\"#7201a8\"],[0.3333333333333333,\"#9c179e\"],[0.4444444444444444,\"#bd3786\"],[0.5555555555555556,\"#d8576b\"],[0.6666666666666666,\"#ed7953\"],[0.7777777777777778,\"#fb9f3a\"],[0.8888888888888888,\"#fdca26\"],[1.0,\"#f0f921\"]]}],\"surface\":[{\"type\":\"surface\",\"colorbar\":{\"outlinewidth\":0,\"ticks\":\"\"},\"colorscale\":[[0.0,\"#0d0887\"],[0.1111111111111111,\"#46039f\"],[0.2222222222222222,\"#7201a8\"],[0.3333333333333333,\"#9c179e\"],[0.4444444444444444,\"#bd3786\"],[0.5555555555555556,\"#d8576b\"],[0.6666666666666666,\"#ed7953\"],[0.7777777777777778,\"#fb9f3a\"],[0.8888888888888888,\"#fdca26\"],[1.0,\"#f0f921\"]]}],\"mesh3d\":[{\"type\":\"mesh3d\",\"colorbar\":{\"outlinewidth\":0,\"ticks\":\"\"}}],\"scatter\":[{\"fillpattern\":{\"fillmode\":\"overlay\",\"size\":10,\"solidity\":0.2},\"type\":\"scatter\"}],\"parcoords\":[{\"type\":\"parcoords\",\"line\":{\"colorbar\":{\"outlinewidth\":0,\"ticks\":\"\"}}}],\"scatterpolargl\":[{\"type\":\"scatterpolargl\",\"marker\":{\"colorbar\":{\"outlinewidth\":0,\"ticks\":\"\"}}}],\"bar\":[{\"error_x\":{\"color\":\"#2a3f5f\"},\"error_y\":{\"color\":\"#2a3f5f\"},\"marker\":{\"line\":{\"color\":\"#E5ECF6\",\"width\":0.5},\"pattern\":{\"fillmode\":\"overlay\",\"size\":10,\"solidity\":0.2}},\"type\":\"bar\"}],\"scattergeo\":[{\"type\":\"scattergeo\",\"marker\":{\"colorbar\":{\"outlinewidth\":0,\"ticks\":\"\"}}}],\"scatterpolar\":[{\"type\":\"scatterpolar\",\"marker\":{\"colorbar\":{\"outlinewidth\":0,\"ticks\":\"\"}}}],\"histogram\":[{\"marker\":{\"pattern\":{\"fillmode\":\"overlay\",\"size\":10,\"solidity\":0.2}},\"type\":\"histogram\"}],\"scattergl\":[{\"type\":\"scattergl\",\"marker\":{\"colorbar\":{\"outlinewidth\":0,\"ticks\":\"\"}}}],\"scatter3d\":[{\"type\":\"scatter3d\",\"line\":{\"colorbar\":{\"outlinewidth\":0,\"ticks\":\"\"}},\"marker\":{\"colorbar\":{\"outlinewidth\":0,\"ticks\":\"\"}}}],\"scattermapbox\":[{\"type\":\"scattermapbox\",\"marker\":{\"colorbar\":{\"outlinewidth\":0,\"ticks\":\"\"}}}],\"scatterternary\":[{\"type\":\"scatterternary\",\"marker\":{\"colorbar\":{\"outlinewidth\":0,\"ticks\":\"\"}}}],\"scattercarpet\":[{\"type\":\"scattercarpet\",\"marker\":{\"colorbar\":{\"outlinewidth\":0,\"ticks\":\"\"}}}],\"carpet\":[{\"aaxis\":{\"endlinecolor\":\"#2a3f5f\",\"gridcolor\":\"white\",\"linecolor\":\"white\",\"minorgridcolor\":\"white\",\"startlinecolor\":\"#2a3f5f\"},\"baxis\":{\"endlinecolor\":\"#2a3f5f\",\"gridcolor\":\"white\",\"linecolor\":\"white\",\"minorgridcolor\":\"white\",\"startlinecolor\":\"#2a3f5f\"},\"type\":\"carpet\"}],\"table\":[{\"cells\":{\"fill\":{\"color\":\"#EBF0F8\"},\"line\":{\"color\":\"white\"}},\"header\":{\"fill\":{\"color\":\"#C8D4E3\"},\"line\":{\"color\":\"white\"}},\"type\":\"table\"}],\"barpolar\":[{\"marker\":{\"line\":{\"color\":\"#E5ECF6\",\"width\":0.5},\"pattern\":{\"fillmode\":\"overlay\",\"size\":10,\"solidity\":0.2}},\"type\":\"barpolar\"}],\"pie\":[{\"automargin\":true,\"type\":\"pie\"}]},\"layout\":{\"autotypenumbers\":\"strict\",\"colorway\":[\"#636efa\",\"#EF553B\",\"#00cc96\",\"#ab63fa\",\"#FFA15A\",\"#19d3f3\",\"#FF6692\",\"#B6E880\",\"#FF97FF\",\"#FECB52\"],\"font\":{\"color\":\"#2a3f5f\"},\"hovermode\":\"closest\",\"hoverlabel\":{\"align\":\"left\"},\"paper_bgcolor\":\"white\",\"plot_bgcolor\":\"#E5ECF6\",\"polar\":{\"bgcolor\":\"#E5ECF6\",\"angularaxis\":{\"gridcolor\":\"white\",\"linecolor\":\"white\",\"ticks\":\"\"},\"radialaxis\":{\"gridcolor\":\"white\",\"linecolor\":\"white\",\"ticks\":\"\"}},\"ternary\":{\"bgcolor\":\"#E5ECF6\",\"aaxis\":{\"gridcolor\":\"white\",\"linecolor\":\"white\",\"ticks\":\"\"},\"baxis\":{\"gridcolor\":\"white\",\"linecolor\":\"white\",\"ticks\":\"\"},\"caxis\":{\"gridcolor\":\"white\",\"linecolor\":\"white\",\"ticks\":\"\"}},\"coloraxis\":{\"colorbar\":{\"outlinewidth\":0,\"ticks\":\"\"}},\"colorscale\":{\"sequential\":[[0.0,\"#0d0887\"],[0.1111111111111111,\"#46039f\"],[0.2222222222222222,\"#7201a8\"],[0.3333333333333333,\"#9c179e\"],[0.4444444444444444,\"#bd3786\"],[0.5555555555555556,\"#d8576b\"],[0.6666666666666666,\"#ed7953\"],[0.7777777777777778,\"#fb9f3a\"],[0.8888888888888888,\"#fdca26\"],[1.0,\"#f0f921\"]],\"sequentialminus\":[[0.0,\"#0d0887\"],[0.1111111111111111,\"#46039f\"],[0.2222222222222222,\"#7201a8\"],[0.3333333333333333,\"#9c179e\"],[0.4444444444444444,\"#bd3786\"],[0.5555555555555556,\"#d8576b\"],[0.6666666666666666,\"#ed7953\"],[0.7777777777777778,\"#fb9f3a\"],[0.8888888888888888,\"#fdca26\"],[1.0,\"#f0f921\"]],\"diverging\":[[0,\"#8e0152\"],[0.1,\"#c51b7d\"],[0.2,\"#de77ae\"],[0.3,\"#f1b6da\"],[0.4,\"#fde0ef\"],[0.5,\"#f7f7f7\"],[0.6,\"#e6f5d0\"],[0.7,\"#b8e186\"],[0.8,\"#7fbc41\"],[0.9,\"#4d9221\"],[1,\"#276419\"]]},\"xaxis\":{\"gridcolor\":\"white\",\"linecolor\":\"white\",\"ticks\":\"\",\"title\":{\"standoff\":15},\"zerolinecolor\":\"white\",\"automargin\":true,\"zerolinewidth\":2},\"yaxis\":{\"gridcolor\":\"white\",\"linecolor\":\"white\",\"ticks\":\"\",\"title\":{\"standoff\":15},\"zerolinecolor\":\"white\",\"automargin\":true,\"zerolinewidth\":2},\"scene\":{\"xaxis\":{\"backgroundcolor\":\"#E5ECF6\",\"gridcolor\":\"white\",\"linecolor\":\"white\",\"showbackground\":true,\"ticks\":\"\",\"zerolinecolor\":\"white\",\"gridwidth\":2},\"yaxis\":{\"backgroundcolor\":\"#E5ECF6\",\"gridcolor\":\"white\",\"linecolor\":\"white\",\"showbackground\":true,\"ticks\":\"\",\"zerolinecolor\":\"white\",\"gridwidth\":2},\"zaxis\":{\"backgroundcolor\":\"#E5ECF6\",\"gridcolor\":\"white\",\"linecolor\":\"white\",\"showbackground\":true,\"ticks\":\"\",\"zerolinecolor\":\"white\",\"gridwidth\":2}},\"shapedefaults\":{\"line\":{\"color\":\"#2a3f5f\"}},\"annotationdefaults\":{\"arrowcolor\":\"#2a3f5f\",\"arrowhead\":0,\"arrowwidth\":1},\"geo\":{\"bgcolor\":\"white\",\"landcolor\":\"#E5ECF6\",\"subunitcolor\":\"white\",\"showland\":true,\"showlakes\":true,\"lakecolor\":\"white\"},\"title\":{\"x\":0.05},\"mapbox\":{\"style\":\"light\"}}}},                        {\"responsive\": true}                    ).then(function(){\n",
              "                            \n",
              "var gd = document.getElementById('9dc1eb15-7757-40a3-8e23-13a8fe6f639e');\n",
              "var x = new MutationObserver(function (mutations, observer) {{\n",
              "        var display = window.getComputedStyle(gd).display;\n",
              "        if (!display || display === 'none') {{\n",
              "            console.log([gd, 'removed!']);\n",
              "            Plotly.purge(gd);\n",
              "            observer.disconnect();\n",
              "        }}\n",
              "}});\n",
              "\n",
              "// Listen for the removal of the full notebook cells\n",
              "var notebookContainer = gd.closest('#notebook-container');\n",
              "if (notebookContainer) {{\n",
              "    x.observe(notebookContainer, {childList: true});\n",
              "}}\n",
              "\n",
              "// Listen for the clearing of the current output cell\n",
              "var outputEl = gd.closest('.output');\n",
              "if (outputEl) {{\n",
              "    x.observe(outputEl, {childList: true});\n",
              "}}\n",
              "\n",
              "                        })                };                            </script>        </div>\n",
              "</body>\n",
              "</html>"
            ]
          },
          "metadata": {}
        },
        {
          "output_type": "display_data",
          "data": {
            "text/html": [
              "<html>\n",
              "<head><meta charset=\"utf-8\" /></head>\n",
              "<body>\n",
              "    <div>            <script src=\"https://cdnjs.cloudflare.com/ajax/libs/mathjax/2.7.5/MathJax.js?config=TeX-AMS-MML_SVG\"></script><script type=\"text/javascript\">if (window.MathJax && window.MathJax.Hub && window.MathJax.Hub.Config) {window.MathJax.Hub.Config({SVG: {font: \"STIX-Web\"}});}</script>                <script type=\"text/javascript\">window.PlotlyConfig = {MathJaxConfig: 'local'};</script>\n",
              "        <script charset=\"utf-8\" src=\"https://cdn.plot.ly/plotly-2.35.2.min.js\"></script>                <div id=\"05ef9160-9261-4245-8aa2-071291a9f453\" class=\"plotly-graph-div\" style=\"height:525px; width:100%;\"></div>            <script type=\"text/javascript\">                                    window.PLOTLYENV=window.PLOTLYENV || {};                                    if (document.getElementById(\"05ef9160-9261-4245-8aa2-071291a9f453\")) {                    Plotly.newPlot(                        \"05ef9160-9261-4245-8aa2-071291a9f453\",                        [{\"cliponaxis\":false,\"hovertemplate\":[\"n_layers (IntDistribution): 0.04343584545866637\\u003cextra\\u003e\\u003c\\u002fextra\\u003e\",\"n_units_l0 (IntDistribution): 0.10526256929926794\\u003cextra\\u003e\\u003c\\u002fextra\\u003e\",\"lr (FloatDistribution): 0.8513015852420658\\u003cextra\\u003e\\u003c\\u002fextra\\u003e\"],\"name\":\"Objective Value\",\"orientation\":\"h\",\"text\":[\"0.04\",\"0.11\",\"0.85\"],\"textposition\":\"outside\",\"x\":[0.04343584545866637,0.10526256929926794,0.8513015852420658],\"y\":[\"n_layers\",\"n_units_l0\",\"lr\"],\"type\":\"bar\"}],                        {\"title\":{\"text\":\"Parameter Importances\"},\"xaxis\":{\"title\":{\"text\":\"Hyperparameter Importance\"}},\"yaxis\":{\"title\":{\"text\":\"Hyperparameter\"}},\"template\":{\"data\":{\"histogram2dcontour\":[{\"type\":\"histogram2dcontour\",\"colorbar\":{\"outlinewidth\":0,\"ticks\":\"\"},\"colorscale\":[[0.0,\"#0d0887\"],[0.1111111111111111,\"#46039f\"],[0.2222222222222222,\"#7201a8\"],[0.3333333333333333,\"#9c179e\"],[0.4444444444444444,\"#bd3786\"],[0.5555555555555556,\"#d8576b\"],[0.6666666666666666,\"#ed7953\"],[0.7777777777777778,\"#fb9f3a\"],[0.8888888888888888,\"#fdca26\"],[1.0,\"#f0f921\"]]}],\"choropleth\":[{\"type\":\"choropleth\",\"colorbar\":{\"outlinewidth\":0,\"ticks\":\"\"}}],\"histogram2d\":[{\"type\":\"histogram2d\",\"colorbar\":{\"outlinewidth\":0,\"ticks\":\"\"},\"colorscale\":[[0.0,\"#0d0887\"],[0.1111111111111111,\"#46039f\"],[0.2222222222222222,\"#7201a8\"],[0.3333333333333333,\"#9c179e\"],[0.4444444444444444,\"#bd3786\"],[0.5555555555555556,\"#d8576b\"],[0.6666666666666666,\"#ed7953\"],[0.7777777777777778,\"#fb9f3a\"],[0.8888888888888888,\"#fdca26\"],[1.0,\"#f0f921\"]]}],\"heatmap\":[{\"type\":\"heatmap\",\"colorbar\":{\"outlinewidth\":0,\"ticks\":\"\"},\"colorscale\":[[0.0,\"#0d0887\"],[0.1111111111111111,\"#46039f\"],[0.2222222222222222,\"#7201a8\"],[0.3333333333333333,\"#9c179e\"],[0.4444444444444444,\"#bd3786\"],[0.5555555555555556,\"#d8576b\"],[0.6666666666666666,\"#ed7953\"],[0.7777777777777778,\"#fb9f3a\"],[0.8888888888888888,\"#fdca26\"],[1.0,\"#f0f921\"]]}],\"heatmapgl\":[{\"type\":\"heatmapgl\",\"colorbar\":{\"outlinewidth\":0,\"ticks\":\"\"},\"colorscale\":[[0.0,\"#0d0887\"],[0.1111111111111111,\"#46039f\"],[0.2222222222222222,\"#7201a8\"],[0.3333333333333333,\"#9c179e\"],[0.4444444444444444,\"#bd3786\"],[0.5555555555555556,\"#d8576b\"],[0.6666666666666666,\"#ed7953\"],[0.7777777777777778,\"#fb9f3a\"],[0.8888888888888888,\"#fdca26\"],[1.0,\"#f0f921\"]]}],\"contourcarpet\":[{\"type\":\"contourcarpet\",\"colorbar\":{\"outlinewidth\":0,\"ticks\":\"\"}}],\"contour\":[{\"type\":\"contour\",\"colorbar\":{\"outlinewidth\":0,\"ticks\":\"\"},\"colorscale\":[[0.0,\"#0d0887\"],[0.1111111111111111,\"#46039f\"],[0.2222222222222222,\"#7201a8\"],[0.3333333333333333,\"#9c179e\"],[0.4444444444444444,\"#bd3786\"],[0.5555555555555556,\"#d8576b\"],[0.6666666666666666,\"#ed7953\"],[0.7777777777777778,\"#fb9f3a\"],[0.8888888888888888,\"#fdca26\"],[1.0,\"#f0f921\"]]}],\"surface\":[{\"type\":\"surface\",\"colorbar\":{\"outlinewidth\":0,\"ticks\":\"\"},\"colorscale\":[[0.0,\"#0d0887\"],[0.1111111111111111,\"#46039f\"],[0.2222222222222222,\"#7201a8\"],[0.3333333333333333,\"#9c179e\"],[0.4444444444444444,\"#bd3786\"],[0.5555555555555556,\"#d8576b\"],[0.6666666666666666,\"#ed7953\"],[0.7777777777777778,\"#fb9f3a\"],[0.8888888888888888,\"#fdca26\"],[1.0,\"#f0f921\"]]}],\"mesh3d\":[{\"type\":\"mesh3d\",\"colorbar\":{\"outlinewidth\":0,\"ticks\":\"\"}}],\"scatter\":[{\"fillpattern\":{\"fillmode\":\"overlay\",\"size\":10,\"solidity\":0.2},\"type\":\"scatter\"}],\"parcoords\":[{\"type\":\"parcoords\",\"line\":{\"colorbar\":{\"outlinewidth\":0,\"ticks\":\"\"}}}],\"scatterpolargl\":[{\"type\":\"scatterpolargl\",\"marker\":{\"colorbar\":{\"outlinewidth\":0,\"ticks\":\"\"}}}],\"bar\":[{\"error_x\":{\"color\":\"#2a3f5f\"},\"error_y\":{\"color\":\"#2a3f5f\"},\"marker\":{\"line\":{\"color\":\"#E5ECF6\",\"width\":0.5},\"pattern\":{\"fillmode\":\"overlay\",\"size\":10,\"solidity\":0.2}},\"type\":\"bar\"}],\"scattergeo\":[{\"type\":\"scattergeo\",\"marker\":{\"colorbar\":{\"outlinewidth\":0,\"ticks\":\"\"}}}],\"scatterpolar\":[{\"type\":\"scatterpolar\",\"marker\":{\"colorbar\":{\"outlinewidth\":0,\"ticks\":\"\"}}}],\"histogram\":[{\"marker\":{\"pattern\":{\"fillmode\":\"overlay\",\"size\":10,\"solidity\":0.2}},\"type\":\"histogram\"}],\"scattergl\":[{\"type\":\"scattergl\",\"marker\":{\"colorbar\":{\"outlinewidth\":0,\"ticks\":\"\"}}}],\"scatter3d\":[{\"type\":\"scatter3d\",\"line\":{\"colorbar\":{\"outlinewidth\":0,\"ticks\":\"\"}},\"marker\":{\"colorbar\":{\"outlinewidth\":0,\"ticks\":\"\"}}}],\"scattermapbox\":[{\"type\":\"scattermapbox\",\"marker\":{\"colorbar\":{\"outlinewidth\":0,\"ticks\":\"\"}}}],\"scatterternary\":[{\"type\":\"scatterternary\",\"marker\":{\"colorbar\":{\"outlinewidth\":0,\"ticks\":\"\"}}}],\"scattercarpet\":[{\"type\":\"scattercarpet\",\"marker\":{\"colorbar\":{\"outlinewidth\":0,\"ticks\":\"\"}}}],\"carpet\":[{\"aaxis\":{\"endlinecolor\":\"#2a3f5f\",\"gridcolor\":\"white\",\"linecolor\":\"white\",\"minorgridcolor\":\"white\",\"startlinecolor\":\"#2a3f5f\"},\"baxis\":{\"endlinecolor\":\"#2a3f5f\",\"gridcolor\":\"white\",\"linecolor\":\"white\",\"minorgridcolor\":\"white\",\"startlinecolor\":\"#2a3f5f\"},\"type\":\"carpet\"}],\"table\":[{\"cells\":{\"fill\":{\"color\":\"#EBF0F8\"},\"line\":{\"color\":\"white\"}},\"header\":{\"fill\":{\"color\":\"#C8D4E3\"},\"line\":{\"color\":\"white\"}},\"type\":\"table\"}],\"barpolar\":[{\"marker\":{\"line\":{\"color\":\"#E5ECF6\",\"width\":0.5},\"pattern\":{\"fillmode\":\"overlay\",\"size\":10,\"solidity\":0.2}},\"type\":\"barpolar\"}],\"pie\":[{\"automargin\":true,\"type\":\"pie\"}]},\"layout\":{\"autotypenumbers\":\"strict\",\"colorway\":[\"#636efa\",\"#EF553B\",\"#00cc96\",\"#ab63fa\",\"#FFA15A\",\"#19d3f3\",\"#FF6692\",\"#B6E880\",\"#FF97FF\",\"#FECB52\"],\"font\":{\"color\":\"#2a3f5f\"},\"hovermode\":\"closest\",\"hoverlabel\":{\"align\":\"left\"},\"paper_bgcolor\":\"white\",\"plot_bgcolor\":\"#E5ECF6\",\"polar\":{\"bgcolor\":\"#E5ECF6\",\"angularaxis\":{\"gridcolor\":\"white\",\"linecolor\":\"white\",\"ticks\":\"\"},\"radialaxis\":{\"gridcolor\":\"white\",\"linecolor\":\"white\",\"ticks\":\"\"}},\"ternary\":{\"bgcolor\":\"#E5ECF6\",\"aaxis\":{\"gridcolor\":\"white\",\"linecolor\":\"white\",\"ticks\":\"\"},\"baxis\":{\"gridcolor\":\"white\",\"linecolor\":\"white\",\"ticks\":\"\"},\"caxis\":{\"gridcolor\":\"white\",\"linecolor\":\"white\",\"ticks\":\"\"}},\"coloraxis\":{\"colorbar\":{\"outlinewidth\":0,\"ticks\":\"\"}},\"colorscale\":{\"sequential\":[[0.0,\"#0d0887\"],[0.1111111111111111,\"#46039f\"],[0.2222222222222222,\"#7201a8\"],[0.3333333333333333,\"#9c179e\"],[0.4444444444444444,\"#bd3786\"],[0.5555555555555556,\"#d8576b\"],[0.6666666666666666,\"#ed7953\"],[0.7777777777777778,\"#fb9f3a\"],[0.8888888888888888,\"#fdca26\"],[1.0,\"#f0f921\"]],\"sequentialminus\":[[0.0,\"#0d0887\"],[0.1111111111111111,\"#46039f\"],[0.2222222222222222,\"#7201a8\"],[0.3333333333333333,\"#9c179e\"],[0.4444444444444444,\"#bd3786\"],[0.5555555555555556,\"#d8576b\"],[0.6666666666666666,\"#ed7953\"],[0.7777777777777778,\"#fb9f3a\"],[0.8888888888888888,\"#fdca26\"],[1.0,\"#f0f921\"]],\"diverging\":[[0,\"#8e0152\"],[0.1,\"#c51b7d\"],[0.2,\"#de77ae\"],[0.3,\"#f1b6da\"],[0.4,\"#fde0ef\"],[0.5,\"#f7f7f7\"],[0.6,\"#e6f5d0\"],[0.7,\"#b8e186\"],[0.8,\"#7fbc41\"],[0.9,\"#4d9221\"],[1,\"#276419\"]]},\"xaxis\":{\"gridcolor\":\"white\",\"linecolor\":\"white\",\"ticks\":\"\",\"title\":{\"standoff\":15},\"zerolinecolor\":\"white\",\"automargin\":true,\"zerolinewidth\":2},\"yaxis\":{\"gridcolor\":\"white\",\"linecolor\":\"white\",\"ticks\":\"\",\"title\":{\"standoff\":15},\"zerolinecolor\":\"white\",\"automargin\":true,\"zerolinewidth\":2},\"scene\":{\"xaxis\":{\"backgroundcolor\":\"#E5ECF6\",\"gridcolor\":\"white\",\"linecolor\":\"white\",\"showbackground\":true,\"ticks\":\"\",\"zerolinecolor\":\"white\",\"gridwidth\":2},\"yaxis\":{\"backgroundcolor\":\"#E5ECF6\",\"gridcolor\":\"white\",\"linecolor\":\"white\",\"showbackground\":true,\"ticks\":\"\",\"zerolinecolor\":\"white\",\"gridwidth\":2},\"zaxis\":{\"backgroundcolor\":\"#E5ECF6\",\"gridcolor\":\"white\",\"linecolor\":\"white\",\"showbackground\":true,\"ticks\":\"\",\"zerolinecolor\":\"white\",\"gridwidth\":2}},\"shapedefaults\":{\"line\":{\"color\":\"#2a3f5f\"}},\"annotationdefaults\":{\"arrowcolor\":\"#2a3f5f\",\"arrowhead\":0,\"arrowwidth\":1},\"geo\":{\"bgcolor\":\"white\",\"landcolor\":\"#E5ECF6\",\"subunitcolor\":\"white\",\"showland\":true,\"showlakes\":true,\"lakecolor\":\"white\"},\"title\":{\"x\":0.05},\"mapbox\":{\"style\":\"light\"}}}},                        {\"responsive\": true}                    ).then(function(){\n",
              "                            \n",
              "var gd = document.getElementById('05ef9160-9261-4245-8aa2-071291a9f453');\n",
              "var x = new MutationObserver(function (mutations, observer) {{\n",
              "        var display = window.getComputedStyle(gd).display;\n",
              "        if (!display || display === 'none') {{\n",
              "            console.log([gd, 'removed!']);\n",
              "            Plotly.purge(gd);\n",
              "            observer.disconnect();\n",
              "        }}\n",
              "}});\n",
              "\n",
              "// Listen for the removal of the full notebook cells\n",
              "var notebookContainer = gd.closest('#notebook-container');\n",
              "if (notebookContainer) {{\n",
              "    x.observe(notebookContainer, {childList: true});\n",
              "}}\n",
              "\n",
              "// Listen for the clearing of the current output cell\n",
              "var outputEl = gd.closest('.output');\n",
              "if (outputEl) {{\n",
              "    x.observe(outputEl, {childList: true});\n",
              "}}\n",
              "\n",
              "                        })                };                            </script>        </div>\n",
              "</body>\n",
              "</html>"
            ]
          },
          "metadata": {}
        }
      ]
    },
    {
      "cell_type": "markdown",
      "source": [
        "## 検証\n",
        "- ベストパラメータの結果を混同行列で確認する。\n",
        "- また、ランダム生成した複数のパラメータと検証精度を棒グラフで比較する。"
      ],
      "metadata": {
        "id": "KdwGtow9qy-9"
      }
    },
    {
      "cell_type": "code",
      "source": [
        "# ------------------------------\n",
        "# Data Loading and Preprocessing\n",
        "# ------------------------------\n",
        "def load_data():\n",
        "    (x_train, y_train), (x_test, y_test) = fashion_mnist.load_data()\n",
        "    x_train = x_train.astype(\"float32\") / 255.0\n",
        "    x_test  = x_test.astype(\"float32\") / 255.0\n",
        "    # Use the last 10,000 samples of training data as validation data\n",
        "    x_train, x_val = x_train[:-10000], x_train[-10000:]\n",
        "    y_train, y_val = y_train[:-10000], y_train[-10000:]\n",
        "    return x_train, y_train, x_val, y_val, x_test, y_test\n",
        "\n",
        "x_train, y_train, x_val, y_val, x_test, y_test = load_data()\n",
        "\n",
        "# ------------------------------\n",
        "# Model Creation Function\n",
        "# ------------------------------\n",
        "def create_model(params):\n",
        "    model = Sequential()\n",
        "    model.add(Flatten(input_shape=(28, 28)))\n",
        "    for units in params[\"layers\"]:\n",
        "        model.add(Dense(units, activation=\"relu\"))\n",
        "    model.add(Dense(10, activation=\"softmax\"))\n",
        "\n",
        "    optimizer = Adam(learning_rate=params[\"lr\"])\n",
        "    model.compile(optimizer=optimizer,\n",
        "                  loss=\"sparse_categorical_crossentropy\",\n",
        "                  metrics=[\"accuracy\"])\n",
        "    return model\n",
        "\n",
        "# ------------------------------\n",
        "# Convert Best Trial Parameters from Optuna\n",
        "# ------------------------------\n",
        "def convert_best_params(trial_params):\n",
        "    new_params = {}\n",
        "    n_layers = trial_params[\"n_layers\"]\n",
        "    new_params[\"n_layers\"] = n_layers\n",
        "    layers = []\n",
        "    for i in range(n_layers):\n",
        "        layers.append(trial_params[f\"n_units_l{i}\"])\n",
        "    new_params[\"layers\"] = layers\n",
        "    new_params[\"lr\"] = trial_params[\"lr\"]\n",
        "    return new_params\n",
        "\n",
        "# ------------------------------\n",
        "# (1) Best Model: Training and Confusion Matrix\n",
        "# ------------------------------\n",
        "# Retrieve best parameters from the Optuna study\n",
        "# (Ensure that 'study' exists; it should have been created and optimized previously.)\n",
        "best_trial_params = study.best_trial.params\n",
        "best_params = convert_best_params(best_trial_params)\n",
        "\n",
        "# Create and train the best model\n",
        "best_model = create_model(best_params)\n",
        "early_stopping = EarlyStopping(monitor=\"val_loss\", patience=3, verbose=0)\n",
        "best_model.fit(x_train, y_train,\n",
        "               validation_data=(x_val, y_val),\n",
        "               epochs=20,\n",
        "               batch_size=32,\n",
        "               callbacks=[early_stopping],\n",
        "               verbose=0)\n",
        "# Evaluate on validation data\n",
        "score = best_model.evaluate(x_val, y_val, verbose=0)\n",
        "\n",
        "# Generate predictions and compute the confusion matrix\n",
        "y_pred_prob = best_model.predict(x_val)\n",
        "y_pred = np.argmax(y_pred_prob, axis=1)\n",
        "cm = confusion_matrix(y_val, y_pred)\n",
        "\n",
        "# Plot the confusion matrix\n",
        "plt.figure(figsize=(8, 6))\n",
        "sns.heatmap(cm, annot=True, fmt=\"d\", cmap=\"Blues\")\n",
        "plt.xlabel(\"Predicted Label\")\n",
        "plt.ylabel(\"True Label\")\n",
        "plt.title(\"Confusion Matrix of Best Model\")\n",
        "plt.show()\n",
        "\n",
        "# ------------------------------\n",
        "# (2) Random Models: Validation Accuracy Comparison\n",
        "# ------------------------------\n",
        "def generate_random_params():\n",
        "    \"\"\"\n",
        "    Generate random parameters within the search space:\n",
        "      - Number of layers: 1 to 5\n",
        "      - Units per layer: 32 to 512 (step size 32)\n",
        "      - Learning rate: log-uniform between 1e-5 and 1e-2\n",
        "      - Batch size: one of [32, 64, 96, 128]\n",
        "    \"\"\"\n",
        "    params = {}\n",
        "    params[\"n_layers\"] = random.randint(1, 5)\n",
        "    layers = []\n",
        "    for _ in range(params[\"n_layers\"]):\n",
        "        layers.append(random.choice(list(range(32, 513, 32))))\n",
        "    params[\"layers\"] = layers\n",
        "    log_lr = random.uniform(math.log10(1e-5), math.log10(1e-2))\n",
        "    params[\"lr\"] = 10 ** log_lr\n",
        "    params[\"batch_size\"] = random.choice([32, 64, 96, 128])\n",
        "    return params\n",
        "\n",
        "num_random = 5  # Number of random models\n",
        "random_accuracies = []\n",
        "\n",
        "for i in range(num_random):\n",
        "    r_params = generate_random_params()\n",
        "    model_r = create_model(r_params)\n",
        "    model_r.fit(x_train, y_train,\n",
        "                validation_data=(x_val, y_val),\n",
        "                epochs=20,\n",
        "                batch_size=r_params[\"batch_size\"],\n",
        "                callbacks=[EarlyStopping(monitor=\"val_loss\", patience=3, verbose=0)],\n",
        "                verbose=0)\n",
        "    score_r = model_r.evaluate(x_val, y_val, verbose=0)\n",
        "    random_accuracies.append(score_r[1])  # score_r[1] is validation accuracy\n",
        "\n",
        "# Prepare data for the bar chart comparison\n",
        "model_names = [\"Best Model\"] + [f\"Random {i+1}\" for i in range(num_random)]\n",
        "accuracies = [score[1]] + random_accuracies\n",
        "\n",
        "# Plot the comparison bar chart\n",
        "plt.figure(figsize=(10, 6))\n",
        "sns.barplot(x=model_names, y=accuracies, palette=\"viridis\")\n",
        "plt.xlabel(\"Model\")\n",
        "plt.ylabel(\"Validation Accuracy\")\n",
        "plt.ylim(0, 1)\n",
        "plt.title(\"Comparison of Validation Accuracy\")\n",
        "plt.show()\n"
      ],
      "metadata": {
        "colab": {
          "base_uri": "https://localhost:8080/",
          "height": 1000
        },
        "id": "ZZiGkWX1taP2",
        "outputId": "4ce89187-e004-4d26-a0a8-952a6f6ce3e9"
      },
      "execution_count": 7,
      "outputs": [
        {
          "output_type": "stream",
          "name": "stdout",
          "text": [
            "\u001b[1m313/313\u001b[0m \u001b[32m━━━━━━━━━━━━━━━━━━━━\u001b[0m\u001b[37m\u001b[0m \u001b[1m1s\u001b[0m 2ms/step\n"
          ]
        },
        {
          "output_type": "display_data",
          "data": {
            "text/plain": [
              "<Figure size 800x600 with 2 Axes>"
            ],
            "image/png": "[encoded data removed]"
          },
          "metadata": {}
        },
        {
          "output_type": "stream",
          "name": "stderr",
          "text": [
            "/usr/local/lib/python3.11/dist-packages/keras/src/layers/reshaping/flatten.py:37: UserWarning:\n",
            "\n",
            "Do not pass an `input_shape`/`input_dim` argument to a layer. When using Sequential models, prefer using an `Input(shape)` object as the first layer in the model instead.\n",
            "\n",
            "<ipython-input-7-6d63110a9115>:121: FutureWarning:\n",
            "\n",
            "\n",
            "\n",
            "Passing `palette` without assigning `hue` is deprecated and will be removed in v0.14.0. Assign the `x` variable to `hue` and set `legend=False` for the same effect.\n",
            "\n",
            "\n"
          ]
        },
        {
          "output_type": "display_data",
          "data": {
            "text/plain": [
              "<Figure size 1000x600 with 1 Axes>"
            ],
            "image/png": "[encoded data removed]"
          },
          "metadata": {}
        }
      ]
    }
  ]
}